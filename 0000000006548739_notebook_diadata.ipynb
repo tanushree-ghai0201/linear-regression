{
 "cells": [
  {
   "cell_type": "code",
   "execution_count": 1,
   "metadata": {},
   "outputs": [],
   "source": [
    "import numpy as np"
   ]
  },
  {
   "cell_type": "code",
   "execution_count": 2,
   "metadata": {},
   "outputs": [],
   "source": [
    "train_data=np.genfromtxt(\"C:\\Users\\hp\\Downloads\\0000000000002329_training_diabetes_x_y_train.csv\",delimiter=\",\")\n",
    "test_data=np.loadtxt(\"C:\\Users\\hp\\Downloads\\0000000000002329_test_diabetes_x_test.csv\",delimiter=\",\")"
   ]
  },
  {
   "cell_type": "code",
   "execution_count": 10,
   "metadata": {},
   "outputs": [],
   "source": [
    "from sklearn.linear_model import LinearRegression\n",
    "alg1=LinearRegression()"
   ]
  },
  {
   "cell_type": "code",
   "execution_count": 8,
   "metadata": {},
   "outputs": [
    {
     "data": {
      "text/plain": [
       "array([346., 104.,  49., 180., 110.,  72.,  68., 216.,  47., 296.,  65.,\n",
       "        96.,  67.,  52., 100., 202., 128.,  63., 281., 152., 124., 245.,\n",
       "       101., 113.,  48., 197., 186., 132., 245.,  91.,  43., 101., 111.,\n",
       "       199., 220., 281., 217.,  93., 174., 150., 206.,  61.,  55., 118.,\n",
       "        53., 275., 215., 142.,  90.,  65., 200.,  96., 249., 200., 155.,\n",
       "       170., 141., 179., 225.,  61., 103., 131., 158., 275., 246.,  97.,\n",
       "       302.,  91., 178.,  51., 170., 104., 168., 257., 182.,  71., 220.,\n",
       "       241., 192., 220., 220., 141.,  89., 144., 150., 135., 200.,  39.,\n",
       "        25., 185.,  52.,  92.,  63., 152.,  69.,  68., 274., 279., 236.,\n",
       "       168., 143., 135., 123., 277.,  60.,  72.,  72., 109.,  86.,  92.,\n",
       "        99.,  48., 170., 283., 129.,  75., 270., 272.,  31., 262., 232.,\n",
       "       191., 140., 233., 196., 263.,  88.,  84., 137., 128.,  78., 140.,\n",
       "       252.,  55., 104., 235.,  37., 122.,  72., 144., 138., 253.,  90.,\n",
       "        53., 198., 145.,  73., 252.,  77., 295., 243.,  83., 212., 185.,\n",
       "       126.,  68., 210., 107., 200.,  69.,  98., 242., 163., 172.,  40.,\n",
       "       109.,  39., 202., 131., 261.,  71., 200.,  60., 198., 198., 107.,\n",
       "       252., 144., 108.,  64.,  83.,  67., 146.,  84.,  96., 270.,  80.,\n",
       "       182., 214., 127., 143., 222.,  50.,  85., 115., 243., 281., 258.,\n",
       "       114.,  57.,  94., 136.,  88., 178.,  94.,  81.,  42., 102., 139.,\n",
       "        74.,  69., 308., 200., 242., 158., 174.,  66.,  78., 127., 132.,\n",
       "       201., 178., 202.,  66., 248., 237., 120., 111.,  99.,  96., 180.,\n",
       "       341., 219., 131., 141.,  89.,  59., 147.,  44., 336.,  47., 272.,\n",
       "       317., 161.,  64.,  78., 111., 208., 190., 244., 246.,  48., 275.,\n",
       "       182., 248.,  59., 178., 113., 109., 142.,  59., 110., 128.,  95.,\n",
       "        65., 115., 276.,  85., 183.,  58.,  71., 162., 225., 306., 137.,\n",
       "        85.,  77.,  72., 166., 310.,  79., 195., 321., 160., 283.,  75.,\n",
       "       167., 191.,  71., 297., 185., 134., 233., 151.,  83., 258.,  54.,\n",
       "        55., 189.,  70., 310., 181., 172., 235., 275., 259.,  88.,  74.,\n",
       "        91., 104., 173., 179., 148., 168., 124., 164., 214., 263.,  52.,\n",
       "        52., 160.,  88.,  94., 109.,  53., 265., 233.,  63., 288., 131.,\n",
       "        42.])"
      ]
     },
     "execution_count": 8,
     "metadata": {},
     "output_type": "execute_result"
    }
   ],
   "source": [
    "x_train=train_data[1:,0:10]\n",
    "y_train=train_data[1:,10]\n",
    "y_train"
   ]
  },
  {
   "cell_type": "code",
   "execution_count": 11,
   "metadata": {},
   "outputs": [],
   "source": [
    "alg1.fit(x_train,y_train)\n",
    "y_pred=alg1.predict(test_data)"
   ]
  },
  {
   "cell_type": "code",
   "execution_count": 13,
   "metadata": {},
   "outputs": [],
   "source": [
    "np.savetxt(\"y_pred.csv\",y_pred,delimiter=\",\",fmt=\"%f\")"
   ]
  },
  {
   "cell_type": "code",
   "execution_count": null,
   "metadata": {},
   "outputs": [],
   "source": []
  }
 ],
 "metadata": {
  "kernelspec": {
   "display_name": "Python 3",
   "language": "python",
   "name": "python3"
  },
  "language_info": {
   "codemirror_mode": {
    "name": "ipython",
    "version": 3
   },
   "file_extension": ".py",
   "mimetype": "text/x-python",
   "name": "python",
   "nbconvert_exporter": "python",
   "pygments_lexer": "ipython3",
   "version": "3.7.3"
  }
 },
 "nbformat": 4,
 "nbformat_minor": 2
}
